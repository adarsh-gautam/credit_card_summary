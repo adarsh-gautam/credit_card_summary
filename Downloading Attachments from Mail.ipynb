{
 "cells": [
  {
   "cell_type": "markdown",
   "id": "41ea418d",
   "metadata": {},
   "source": [
    "# Downloading Attachments from Gmail"
   ]
  },
  {
   "cell_type": "markdown",
   "id": "7804446a",
   "metadata": {},
   "source": [
    "## Imports"
   ]
  },
  {
   "cell_type": "code",
   "execution_count": 4,
   "id": "9efe8252",
   "metadata": {},
   "outputs": [],
   "source": [
    "import pandas as pd\n",
    "import datetime\n",
    "import os\n",
    "import glob\n",
    "import email\n",
    "import imaplib"
   ]
  },
  {
   "cell_type": "markdown",
   "id": "47c9b683",
   "metadata": {},
   "source": [
    "## Constants"
   ]
  },
  {
   "cell_type": "code",
   "execution_count": 5,
   "id": "0107f959",
   "metadata": {},
   "outputs": [],
   "source": [
    "# Login Credentials. Note: Password needs to be set in gmail first through App Password\n",
    "\n",
    "EMAIL_UN = 'yourmail@gmail.com'\n",
    "EMAIL_PW = 'xxxxxxxxxxxxxxxx'\n",
    "\n",
    "subject = '\"Credit Card Statement\"'\n",
    "\n",
    "# Constants\n",
    "\n",
    "month = {\n",
    "        'jan': '01',\n",
    "        'feb': '02',\n",
    "        'mar': '03',\n",
    "        'apr': '04',\n",
    "        'may': '05',\n",
    "        'jun': '06',\n",
    "        'jul': '07',\n",
    "        'aug': '08',\n",
    "        'sep': '09',\n",
    "        'oct': '10',\n",
    "        'nov': '11',\n",
    "        'dec': '12'\n",
    "        }"
   ]
  },
  {
   "cell_type": "markdown",
   "id": "a1d0a227",
   "metadata": {},
   "source": [
    "## Definitions"
   ]
  },
  {
   "cell_type": "code",
   "execution_count": 6,
   "id": "37f347cb",
   "metadata": {},
   "outputs": [],
   "source": [
    "def signin_gmail(username, password):\n",
    "    \"\"\"\n",
    "    Connecting to gmail and logging in\n",
    "    \"\"\"\n",
    "    # Gmail IMAP url\n",
    "    imap_url = 'imap.gmail.com'\n",
    "\n",
    "    # connecting to the Gmail IMAP server\n",
    "    conn = imaplib.IMAP4_SSL(imap_url)\n",
    "    conn.login(username,password)\n",
    "\n",
    "\n",
    "    # Selecting the Folder for searching for mails\n",
    "    conn.select('\"[Gmail]/All Mail\"')\n",
    "    \n",
    "    return conn\n",
    "\n",
    "def download_attachment(file_name, file_content):\n",
    "    \"\"\"\n",
    "    Writes contents of attachment into a file in current directory\n",
    "    \"\"\"\n",
    "    # saving files to current directory\n",
    "    att_path = os.path.join('.', file_name)\n",
    "    print(att_path)\n",
    "    with open(att_path, 'wb') as fp:\n",
    "        fp.write(file_content)\n",
    "    \n",
    "    print(str(file_name)+ ' downloaded')"
   ]
  },
  {
   "cell_type": "markdown",
   "id": "e2ff2f5a",
   "metadata": {},
   "source": [
    "## Attachment download"
   ]
  },
  {
   "cell_type": "code",
   "execution_count": 3,
   "id": "0adca1ac",
   "metadata": {},
   "outputs": [],
   "source": [
    "m = signin_gmail(EMAIL_UN, EMAIL_PW)\n",
    "\n",
    "# defining search criteria\n",
    "resp, items_org = m.search(None, 'SUBJECT', subject)\n",
    "\n",
    "# splitting all the mail ids to a list\n",
    "items = items_org[0].split()\n",
    "\n",
    "for emailid in items:\n",
    "    print(emailid)\n",
    "    \n",
    "    # fetching the mail, \"`(RFC822)`\" means \"get the whole stuff\", but you can ask for headers only, etc\n",
    "    resp, data = m.fetch(emailid, \"(RFC822)\")\n",
    "    \n",
    "    # getting the mail content\n",
    "    email_body = data[0][1]\n",
    "    \n",
    "    # parsing the mail content to get a mail object\n",
    "    mail = email.message_from_string(str(email_body.decode(\"utf-8\"))) \n",
    "\n",
    "    # Check if any attachments at all\n",
    "    if mail.get_content_maintype() != 'multipart':\n",
    "        continue\n",
    "\n",
    "    print(\"[\"+mail[\"From\"]+\"] :\" + mail[\"Subject\"])\n",
    "    \n",
    "    name_append = mail[\"Subject\"].split()[::-1][:2]\n",
    "    name_append[1] = \"-{} \".format(month.get(name_append[1][:3].lower())) + name_append[1]\n",
    "    month_year = \"\".join(name_append)\n",
    "    \n",
    "    intra_mail_counter = 1\n",
    "    \n",
    "    # we use walk to create a generator so we can iterate on the parts and forget about the recursive headach\n",
    "    for part in mail.walk():\n",
    "\n",
    "        # multipart are just containers, so we skip them\n",
    "        if part.get_content_maintype() != 'multipart' and part.get('Content-Disposition') is not None:\n",
    "            filename = part.get_filename()\n",
    "            filename = filename.split('.')[0] + ' ({}).'.format(month_year) + filename.split('.')[1]\n",
    "            \n",
    "            # saving files to current directory\n",
    "            att_path = os.path.join('.', filename)\n",
    "            \n",
    "            # if a file with same name exists, add (counter) to it\n",
    "            if os.path.isfile(att_path):\n",
    "                filename = filename.split('.')[0] + ' ({})({}).'.format(month_year, \n",
    "                                                                        intra_mail_counter) + filename.split('.')[1]\n",
    "                \n",
    "                \n",
    "            content = part.get_payload(decode=True)\n",
    "            download_attachment(filename, content)\n",
    "            \n",
    "            # if a file with same name exists in the same email, add counter\n",
    "            intra_mail_counter += 1\n",
    "    "
   ]
  }
 ],
 "metadata": {
  "kernelspec": {
   "display_name": "Python 3 (ipykernel)",
   "language": "python",
   "name": "python3"
  },
  "language_info": {
   "codemirror_mode": {
    "name": "ipython",
    "version": 3
   },
   "file_extension": ".py",
   "mimetype": "text/x-python",
   "name": "python",
   "nbconvert_exporter": "python",
   "pygments_lexer": "ipython3",
   "version": "3.10.2"
  },
  "toc": {
   "base_numbering": 1,
   "nav_menu": {},
   "number_sections": true,
   "sideBar": true,
   "skip_h1_title": false,
   "title_cell": "Table of Contents",
   "title_sidebar": "Contents",
   "toc_cell": false,
   "toc_position": {},
   "toc_section_display": true,
   "toc_window_display": true
  }
 },
 "nbformat": 4,
 "nbformat_minor": 5
}
